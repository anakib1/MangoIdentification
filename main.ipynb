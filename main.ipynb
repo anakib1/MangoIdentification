{
 "cells": [
  {
   "cell_type": "code",
   "execution_count": 1,
   "id": "initial_id",
   "metadata": {
    "collapsed": true,
    "ExecuteTime": {
     "end_time": "2024-09-25T10:23:08.930742Z",
     "start_time": "2024-09-25T10:23:05.740152Z"
    }
   },
   "outputs": [],
   "source": [
    "import numpy as np\n",
    "from datasets import load_dataset\n",
    "\n",
    "# Dataset of victorian era sentences of different authors. Downloads from huggingface in parquet format \n",
    "data = load_dataset('contemmcm/victorian_authorship')"
   ]
  },
  {
   "cell_type": "code",
   "outputs": [],
   "source": [
    "from sklearn.linear_model import RidgeClassifierCV, LogisticRegressionCV\n",
    "from sklearn.decomposition import PCA\n",
    "from sklearn.pipeline import make_pipeline\n",
    "from sklearn.neighbors import KNeighborsClassifier, RadiusNeighborsClassifier\n",
    "from sklearn.preprocessing import StandardScaler\n",
    "from copy import deepcopy\n",
    "from sklearn.metrics import accuracy_score, precision_score, recall_score, f1_score, top_k_accuracy_score\n",
    "from tqdm.auto import tqdm\n",
    "from sklearn.ensemble import RandomForestClassifier\n",
    "import pandas as pd\n",
    "\n",
    "\n",
    "# Performs basic classification metrics for multi label classification. Return as dict to build dataframe later.\n",
    "def perform_metric(y_true, y_pred):\n",
    "    return {\n",
    "        \"acc\": accuracy_score(y_true, y_pred),\n",
    "        'precision': precision_score(y_true, y_pred, zero_division=np.nan, average='macro'),\n",
    "        'recall': recall_score(y_true, y_pred, zero_division=np.nan, average='macro'),\n",
    "        'f1': f1_score(y_true, y_pred, zero_division=np.nan, average='macro')\n",
    "    }\n",
    "\n",
    "\n",
    "# Finds human-readable name for a model. KNN adds number of neighbours to name\n",
    "def get_name(model):\n",
    "    if isinstance(model, KNeighborsClassifier):\n",
    "        return f'{model.__class__.__name__}({str(model.n_neighbors)})'\n",
    "    return model.__class__.__name__\n",
    "\n",
    "\n",
    "#Runs train, evaluate pipeline on model zoo\n",
    "def train_model(X_train, y_train, X_test, y_test):\n",
    "    # Building zoo. Trying to reduce dimension by PCA with different number of components.\n",
    "    components_zoo = [None, 50, 400]\n",
    "    classifiers_zoo = [\n",
    "        RidgeClassifierCV(),\n",
    "        # Ridge classifier with cross-validation. Replaces classification task with regression one.  \n",
    "        make_pipeline(StandardScaler(), LogisticRegressionCV()),\n",
    "        # logistic regression. Works well only with scaled data.\n",
    "        KNeighborsClassifier(50),  #KNN\n",
    "        KNeighborsClassifier(100),  #KNN\n",
    "        RandomForestClassifier(n_estimators=50),  # Select 50 to try to avoid overfit\n",
    "        RadiusNeighborsClassifier(metric='cosine')  # Non-cosine works bad \n",
    "    ]\n",
    "    zoo = []\n",
    "    handles = []  # Names for index for resulting DF.\n",
    "\n",
    "    for component in components_zoo:\n",
    "        for model in classifiers_zoo:\n",
    "            if component is None:  # No PCA at all. \n",
    "                zoo.append(deepcopy(model))\n",
    "                handles.append(get_name(model))\n",
    "            else:\n",
    "                zoo.append(make_pipeline(PCA(component), model))  # Chain with PCA\n",
    "                handles.append('PCA+' + get_name(model))\n",
    "\n",
    "    train_results = []\n",
    "    test_results = []\n",
    "\n",
    "    for model in tqdm(zoo[len(train_results):]):\n",
    "        model.fit(X_train, y_train)  # Not use fit_predict because not all classifiers support. \n",
    "        y_train_hat = model.predict(X_train)  # train preds\n",
    "        y_test_hat = model.predict(X_test)  # test preds\n",
    "\n",
    "        train_results.append(perform_metric(y_train, y_train_hat))\n",
    "        test_results.append(perform_metric(y_test, y_test_hat))\n",
    "\n",
    "    train_df = pd.DataFrame(train_results,\n",
    "                            index=handles[:len(train_results)])  # Build train df. For consistency truncate handles\n",
    "    test_df = pd.DataFrame(test_results, index=handles[:len(test_results)])  # Build test df\n",
    "\n",
    "    return train_df, test_df"
   ],
   "metadata": {
    "collapsed": false,
    "ExecuteTime": {
     "end_time": "2024-09-25T10:23:09.431503Z",
     "start_time": "2024-09-25T10:23:08.935254Z"
    }
   },
   "id": "e1bc47d50c5b2e5f",
   "execution_count": 2
  },
  {
   "cell_type": "code",
   "outputs": [],
   "source": [
    "from sklearn.feature_extraction.text import TfidfVectorizer\n",
    "\n",
    "\n",
    "# Will use weighted inverse frequencies as main feature\n",
    "\n",
    "def prepare_data(train_split, test_split):\n",
    "    vectorizer = TfidfVectorizer(max_features=1000, strip_accents='ascii', stop_words='english')\n",
    "    # max features for speed reasons. remove accents for different encodings. remove stop words to potentially make features more useful \n",
    "    X_train, y_train = vectorizer.fit_transform(train_split['text']).toarray(), train_split['author']\n",
    "    # Will use already fitted vocab\n",
    "    X_test, y_test = vectorizer.transform(test_split['text']).toarray(), test_split['author']\n",
    "    # Assert shapes match\n",
    "    assert X_train.shape[1] == X_test.shape[1]\n",
    "    return X_train, y_train, X_test, y_test"
   ],
   "metadata": {
    "collapsed": false,
    "ExecuteTime": {
     "end_time": "2024-09-25T10:23:09.440694Z",
     "start_time": "2024-09-25T10:23:09.432594Z"
    }
   },
   "id": "3408544997963c8",
   "execution_count": 3
  },
  {
   "cell_type": "code",
   "outputs": [
    {
     "data": {
      "text/plain": "  0%|          | 0/18 [00:00<?, ?it/s]",
      "application/vnd.jupyter.widget-view+json": {
       "version_major": 2,
       "version_minor": 0,
       "model_id": "b0b5574d01d343d3ab8573da2876449a"
      }
     },
     "metadata": {},
     "output_type": "display_data"
    }
   ],
   "source": [
    "X_train, y_train, X_test, y_test = prepare_data(data['train'].shuffle().select(range(10000)),\n",
    "                                                data['test'].shuffle().select(range(10000)))\n",
    "# Data is to big. Taking subset\n",
    "victorian_train, victorian_test = train_model(X_train, y_train, X_test, y_test)"
   ],
   "metadata": {
    "collapsed": false,
    "ExecuteTime": {
     "end_time": "2024-09-25T10:24:20.655210Z",
     "start_time": "2024-09-25T10:23:09.441642Z"
    }
   },
   "id": "af99039726a7a0c9",
   "execution_count": 4
  },
  {
   "cell_type": "code",
   "outputs": [
    {
     "data": {
      "text/plain": "                                  acc  precision    recall        f1\nRidgeClassifierCV              0.8751   0.939050  0.762132  0.816268\nPipeline                       1.0000   1.000000  1.000000  1.000000\nKNeighborsClassifier(50)       0.5983   0.772475  0.445178  0.510188\nKNeighborsClassifier(100)      0.5438   0.772335  0.364433  0.420983\nRandomForestClassifier         1.0000   1.000000  1.000000  1.000000\nRadiusNeighborsClassifier      0.1268   0.126800  0.022222  0.005001\nPCA+RidgeClassifierCV          0.4568   0.571032  0.236902  0.231372\nPCA+Pipeline                   0.6895   0.660927  0.610432  0.630352\nPCA+KNeighborsClassifier(50)   0.5902   0.664767  0.427933  0.463397\nPCA+KNeighborsClassifier(100)  0.5481   0.653939  0.363843  0.391640\nPCA+RandomForestClassifier     1.0000   1.000000  1.000000  1.000000\nPCA+RadiusNeighborsClassifier  0.2538   0.244363  0.069812  0.037704\nPCA+RidgeClassifierCV          0.7685   0.880588  0.600953  0.657885\nPCA+Pipeline                   0.9900   0.994061  0.991721  0.992852\nPCA+KNeighborsClassifier(50)   0.6582   0.786816  0.507070  0.566888\nPCA+KNeighborsClassifier(100)  0.6055   0.783958  0.423983  0.477966\nPCA+RandomForestClassifier     1.0000   1.000000  1.000000  1.000000\nPCA+RadiusNeighborsClassifier  0.2504   0.538079  0.068102  0.038892",
      "text/html": "<div>\n<style scoped>\n    .dataframe tbody tr th:only-of-type {\n        vertical-align: middle;\n    }\n\n    .dataframe tbody tr th {\n        vertical-align: top;\n    }\n\n    .dataframe thead th {\n        text-align: right;\n    }\n</style>\n<table border=\"1\" class=\"dataframe\">\n  <thead>\n    <tr style=\"text-align: right;\">\n      <th></th>\n      <th>acc</th>\n      <th>precision</th>\n      <th>recall</th>\n      <th>f1</th>\n    </tr>\n  </thead>\n  <tbody>\n    <tr>\n      <th>RidgeClassifierCV</th>\n      <td>0.8751</td>\n      <td>0.939050</td>\n      <td>0.762132</td>\n      <td>0.816268</td>\n    </tr>\n    <tr>\n      <th>Pipeline</th>\n      <td>1.0000</td>\n      <td>1.000000</td>\n      <td>1.000000</td>\n      <td>1.000000</td>\n    </tr>\n    <tr>\n      <th>KNeighborsClassifier(50)</th>\n      <td>0.5983</td>\n      <td>0.772475</td>\n      <td>0.445178</td>\n      <td>0.510188</td>\n    </tr>\n    <tr>\n      <th>KNeighborsClassifier(100)</th>\n      <td>0.5438</td>\n      <td>0.772335</td>\n      <td>0.364433</td>\n      <td>0.420983</td>\n    </tr>\n    <tr>\n      <th>RandomForestClassifier</th>\n      <td>1.0000</td>\n      <td>1.000000</td>\n      <td>1.000000</td>\n      <td>1.000000</td>\n    </tr>\n    <tr>\n      <th>RadiusNeighborsClassifier</th>\n      <td>0.1268</td>\n      <td>0.126800</td>\n      <td>0.022222</td>\n      <td>0.005001</td>\n    </tr>\n    <tr>\n      <th>PCA+RidgeClassifierCV</th>\n      <td>0.4568</td>\n      <td>0.571032</td>\n      <td>0.236902</td>\n      <td>0.231372</td>\n    </tr>\n    <tr>\n      <th>PCA+Pipeline</th>\n      <td>0.6895</td>\n      <td>0.660927</td>\n      <td>0.610432</td>\n      <td>0.630352</td>\n    </tr>\n    <tr>\n      <th>PCA+KNeighborsClassifier(50)</th>\n      <td>0.5902</td>\n      <td>0.664767</td>\n      <td>0.427933</td>\n      <td>0.463397</td>\n    </tr>\n    <tr>\n      <th>PCA+KNeighborsClassifier(100)</th>\n      <td>0.5481</td>\n      <td>0.653939</td>\n      <td>0.363843</td>\n      <td>0.391640</td>\n    </tr>\n    <tr>\n      <th>PCA+RandomForestClassifier</th>\n      <td>1.0000</td>\n      <td>1.000000</td>\n      <td>1.000000</td>\n      <td>1.000000</td>\n    </tr>\n    <tr>\n      <th>PCA+RadiusNeighborsClassifier</th>\n      <td>0.2538</td>\n      <td>0.244363</td>\n      <td>0.069812</td>\n      <td>0.037704</td>\n    </tr>\n    <tr>\n      <th>PCA+RidgeClassifierCV</th>\n      <td>0.7685</td>\n      <td>0.880588</td>\n      <td>0.600953</td>\n      <td>0.657885</td>\n    </tr>\n    <tr>\n      <th>PCA+Pipeline</th>\n      <td>0.9900</td>\n      <td>0.994061</td>\n      <td>0.991721</td>\n      <td>0.992852</td>\n    </tr>\n    <tr>\n      <th>PCA+KNeighborsClassifier(50)</th>\n      <td>0.6582</td>\n      <td>0.786816</td>\n      <td>0.507070</td>\n      <td>0.566888</td>\n    </tr>\n    <tr>\n      <th>PCA+KNeighborsClassifier(100)</th>\n      <td>0.6055</td>\n      <td>0.783958</td>\n      <td>0.423983</td>\n      <td>0.477966</td>\n    </tr>\n    <tr>\n      <th>PCA+RandomForestClassifier</th>\n      <td>1.0000</td>\n      <td>1.000000</td>\n      <td>1.000000</td>\n      <td>1.000000</td>\n    </tr>\n    <tr>\n      <th>PCA+RadiusNeighborsClassifier</th>\n      <td>0.2504</td>\n      <td>0.538079</td>\n      <td>0.068102</td>\n      <td>0.038892</td>\n    </tr>\n  </tbody>\n</table>\n</div>"
     },
     "execution_count": 5,
     "metadata": {},
     "output_type": "execute_result"
    }
   ],
   "source": [
    "victorian_train"
   ],
   "metadata": {
    "collapsed": false,
    "ExecuteTime": {
     "end_time": "2024-09-25T10:24:20.667171Z",
     "start_time": "2024-09-25T10:24:20.657639Z"
    }
   },
   "id": "45f58774c7cb6897",
   "execution_count": 5
  },
  {
   "cell_type": "code",
   "outputs": [
    {
     "data": {
      "text/plain": "                                  acc  precision    recall        f1\nRidgeClassifierCV              0.4051   0.497728  0.391363  0.338946\nPipeline                       0.4708   0.491955  0.534204  0.455560\nKNeighborsClassifier(50)       0.2871   0.333730  0.253196  0.218277\nKNeighborsClassifier(100)      0.2760   0.370974  0.229875  0.199281\nRandomForestClassifier         0.2818   0.434570  0.216470  0.185415\nRadiusNeighborsClassifier      0.0857   0.085700  0.020000  0.003157\nPCA+RidgeClassifierCV          0.2468   0.348774  0.174903  0.117576\nPCA+Pipeline                   0.3353   0.289260  0.343250  0.279005\nPCA+KNeighborsClassifier(50)   0.2826   0.278198  0.251264  0.201840\nPCA+KNeighborsClassifier(100)  0.2694   0.289210  0.225047  0.175016\nPCA+RandomForestClassifier     0.2915   0.271461  0.249065  0.201487\nPCA+RadiusNeighborsClassifier  0.1536   0.176973  0.062020  0.023661\nPCA+RidgeClassifierCV          0.3691   0.461410  0.332973  0.280466\nPCA+Pipeline                   0.4392   0.449367  0.476390  0.405750\nPCA+KNeighborsClassifier(50)   0.3100   0.318799  0.280455  0.237869\nPCA+KNeighborsClassifier(100)  0.2983   0.354624  0.256118  0.216537\nPCA+RandomForestClassifier     0.2637   0.344312  0.199409  0.171260\nPCA+RadiusNeighborsClassifier  0.1558   0.357716  0.062419  0.027239",
      "text/html": "<div>\n<style scoped>\n    .dataframe tbody tr th:only-of-type {\n        vertical-align: middle;\n    }\n\n    .dataframe tbody tr th {\n        vertical-align: top;\n    }\n\n    .dataframe thead th {\n        text-align: right;\n    }\n</style>\n<table border=\"1\" class=\"dataframe\">\n  <thead>\n    <tr style=\"text-align: right;\">\n      <th></th>\n      <th>acc</th>\n      <th>precision</th>\n      <th>recall</th>\n      <th>f1</th>\n    </tr>\n  </thead>\n  <tbody>\n    <tr>\n      <th>RidgeClassifierCV</th>\n      <td>0.4051</td>\n      <td>0.497728</td>\n      <td>0.391363</td>\n      <td>0.338946</td>\n    </tr>\n    <tr>\n      <th>Pipeline</th>\n      <td>0.4708</td>\n      <td>0.491955</td>\n      <td>0.534204</td>\n      <td>0.455560</td>\n    </tr>\n    <tr>\n      <th>KNeighborsClassifier(50)</th>\n      <td>0.2871</td>\n      <td>0.333730</td>\n      <td>0.253196</td>\n      <td>0.218277</td>\n    </tr>\n    <tr>\n      <th>KNeighborsClassifier(100)</th>\n      <td>0.2760</td>\n      <td>0.370974</td>\n      <td>0.229875</td>\n      <td>0.199281</td>\n    </tr>\n    <tr>\n      <th>RandomForestClassifier</th>\n      <td>0.2818</td>\n      <td>0.434570</td>\n      <td>0.216470</td>\n      <td>0.185415</td>\n    </tr>\n    <tr>\n      <th>RadiusNeighborsClassifier</th>\n      <td>0.0857</td>\n      <td>0.085700</td>\n      <td>0.020000</td>\n      <td>0.003157</td>\n    </tr>\n    <tr>\n      <th>PCA+RidgeClassifierCV</th>\n      <td>0.2468</td>\n      <td>0.348774</td>\n      <td>0.174903</td>\n      <td>0.117576</td>\n    </tr>\n    <tr>\n      <th>PCA+Pipeline</th>\n      <td>0.3353</td>\n      <td>0.289260</td>\n      <td>0.343250</td>\n      <td>0.279005</td>\n    </tr>\n    <tr>\n      <th>PCA+KNeighborsClassifier(50)</th>\n      <td>0.2826</td>\n      <td>0.278198</td>\n      <td>0.251264</td>\n      <td>0.201840</td>\n    </tr>\n    <tr>\n      <th>PCA+KNeighborsClassifier(100)</th>\n      <td>0.2694</td>\n      <td>0.289210</td>\n      <td>0.225047</td>\n      <td>0.175016</td>\n    </tr>\n    <tr>\n      <th>PCA+RandomForestClassifier</th>\n      <td>0.2915</td>\n      <td>0.271461</td>\n      <td>0.249065</td>\n      <td>0.201487</td>\n    </tr>\n    <tr>\n      <th>PCA+RadiusNeighborsClassifier</th>\n      <td>0.1536</td>\n      <td>0.176973</td>\n      <td>0.062020</td>\n      <td>0.023661</td>\n    </tr>\n    <tr>\n      <th>PCA+RidgeClassifierCV</th>\n      <td>0.3691</td>\n      <td>0.461410</td>\n      <td>0.332973</td>\n      <td>0.280466</td>\n    </tr>\n    <tr>\n      <th>PCA+Pipeline</th>\n      <td>0.4392</td>\n      <td>0.449367</td>\n      <td>0.476390</td>\n      <td>0.405750</td>\n    </tr>\n    <tr>\n      <th>PCA+KNeighborsClassifier(50)</th>\n      <td>0.3100</td>\n      <td>0.318799</td>\n      <td>0.280455</td>\n      <td>0.237869</td>\n    </tr>\n    <tr>\n      <th>PCA+KNeighborsClassifier(100)</th>\n      <td>0.2983</td>\n      <td>0.354624</td>\n      <td>0.256118</td>\n      <td>0.216537</td>\n    </tr>\n    <tr>\n      <th>PCA+RandomForestClassifier</th>\n      <td>0.2637</td>\n      <td>0.344312</td>\n      <td>0.199409</td>\n      <td>0.171260</td>\n    </tr>\n    <tr>\n      <th>PCA+RadiusNeighborsClassifier</th>\n      <td>0.1558</td>\n      <td>0.357716</td>\n      <td>0.062419</td>\n      <td>0.027239</td>\n    </tr>\n  </tbody>\n</table>\n</div>"
     },
     "execution_count": 6,
     "metadata": {},
     "output_type": "execute_result"
    }
   ],
   "source": [
    "victorian_test"
   ],
   "metadata": {
    "collapsed": false,
    "ExecuteTime": {
     "end_time": "2024-09-25T10:24:20.672004Z",
     "start_time": "2024-09-25T10:24:20.668925Z"
    }
   },
   "id": "e4e29c2e4d29443",
   "execution_count": 6
  },
  {
   "cell_type": "code",
   "outputs": [
    {
     "name": "stdout",
     "output_type": "stream",
     "text": [
      "Best test F1: 0.4555601859295214\n"
     ]
    }
   ],
   "source": [
    "print(f'Best test F1: {victorian_test[\"f1\"].max()}')"
   ],
   "metadata": {
    "collapsed": false,
    "ExecuteTime": {
     "end_time": "2024-09-25T10:43:08.731440Z",
     "start_time": "2024-09-25T10:43:08.727368Z"
    }
   },
   "id": "8d1c0b56115f27c",
   "execution_count": 14
  },
  {
   "cell_type": "code",
   "outputs": [],
   "source": [
    "# Blogs or comments. Should be harder \n",
    "blogs = load_dataset('night12/authorTextIdentification')\n",
    "# Renaming for consistency\n",
    "blogs = blogs.rename_column('author_id', 'author')"
   ],
   "metadata": {
    "collapsed": false,
    "ExecuteTime": {
     "end_time": "2024-09-25T10:24:24.322809Z",
     "start_time": "2024-09-25T10:24:20.672699Z"
    }
   },
   "id": "12d8f8a41b5f626f",
   "execution_count": 7
  },
  {
   "cell_type": "code",
   "outputs": [
    {
     "data": {
      "text/plain": "  0%|          | 0/18 [00:00<?, ?it/s]",
      "application/vnd.jupyter.widget-view+json": {
       "version_major": 2,
       "version_minor": 0,
       "model_id": "3fdd243bf3604f2fb2a21cd411a9406d"
      }
     },
     "metadata": {},
     "output_type": "display_data"
    }
   ],
   "source": [
    "X_train, y_train, X_test, y_test = prepare_data(blogs['train'].shuffle().select(range(10000)),\n",
    "                                                blogs['validation'].shuffle().select(range(6000)))\n",
    "\n",
    "blogs_train, blogs_test = train_model(X_train, y_train, X_test, y_test)"
   ],
   "metadata": {
    "collapsed": false,
    "ExecuteTime": {
     "end_time": "2024-09-25T10:25:39.760194Z",
     "start_time": "2024-09-25T10:24:24.325665Z"
    }
   },
   "id": "8d2cc15f2d24600b",
   "execution_count": 8
  },
  {
   "cell_type": "code",
   "outputs": [
    {
     "data": {
      "text/plain": "                                  acc  precision    recall        f1\nRidgeClassifierCV              0.5759   0.688941  0.541132  0.561134\nPipeline                       0.8679   0.890079  0.863907  0.875507\nKNeighborsClassifier(50)       0.3525   0.431709  0.318376  0.315860\nKNeighborsClassifier(100)      0.3378   0.418981  0.302403  0.284492\nRandomForestClassifier         0.9987   0.998910  0.998503  0.998696\nRadiusNeighborsClassifier      0.0626   0.062600  0.020000  0.002356\nPCA+RidgeClassifierCV          0.2617   0.320480  0.222891  0.176193\nPCA+Pipeline                   0.3598   0.356223  0.340710  0.338399\nPCA+KNeighborsClassifier(50)   0.2928   0.335110  0.258804  0.258873\nPCA+KNeighborsClassifier(100)  0.2672   0.314747  0.231351  0.229599\nPCA+RandomForestClassifier     0.9987   0.998865  0.998403  0.998623\nPCA+RadiusNeighborsClassifier  0.1064   0.192112  0.052540  0.029569\nPCA+RidgeClassifierCV          0.4476   0.564038  0.406428  0.402038\nPCA+Pipeline                   0.6194   0.664691  0.599253  0.620992\nPCA+KNeighborsClassifier(50)   0.1570   0.657575  0.120276  0.133970\nPCA+KNeighborsClassifier(100)  0.1612   0.662785  0.123944  0.135490\nPCA+RandomForestClassifier     0.9987   0.998731  0.998548  0.998629\nPCA+RadiusNeighborsClassifier  0.1111   0.331815  0.055293  0.038305",
      "text/html": "<div>\n<style scoped>\n    .dataframe tbody tr th:only-of-type {\n        vertical-align: middle;\n    }\n\n    .dataframe tbody tr th {\n        vertical-align: top;\n    }\n\n    .dataframe thead th {\n        text-align: right;\n    }\n</style>\n<table border=\"1\" class=\"dataframe\">\n  <thead>\n    <tr style=\"text-align: right;\">\n      <th></th>\n      <th>acc</th>\n      <th>precision</th>\n      <th>recall</th>\n      <th>f1</th>\n    </tr>\n  </thead>\n  <tbody>\n    <tr>\n      <th>RidgeClassifierCV</th>\n      <td>0.5759</td>\n      <td>0.688941</td>\n      <td>0.541132</td>\n      <td>0.561134</td>\n    </tr>\n    <tr>\n      <th>Pipeline</th>\n      <td>0.8679</td>\n      <td>0.890079</td>\n      <td>0.863907</td>\n      <td>0.875507</td>\n    </tr>\n    <tr>\n      <th>KNeighborsClassifier(50)</th>\n      <td>0.3525</td>\n      <td>0.431709</td>\n      <td>0.318376</td>\n      <td>0.315860</td>\n    </tr>\n    <tr>\n      <th>KNeighborsClassifier(100)</th>\n      <td>0.3378</td>\n      <td>0.418981</td>\n      <td>0.302403</td>\n      <td>0.284492</td>\n    </tr>\n    <tr>\n      <th>RandomForestClassifier</th>\n      <td>0.9987</td>\n      <td>0.998910</td>\n      <td>0.998503</td>\n      <td>0.998696</td>\n    </tr>\n    <tr>\n      <th>RadiusNeighborsClassifier</th>\n      <td>0.0626</td>\n      <td>0.062600</td>\n      <td>0.020000</td>\n      <td>0.002356</td>\n    </tr>\n    <tr>\n      <th>PCA+RidgeClassifierCV</th>\n      <td>0.2617</td>\n      <td>0.320480</td>\n      <td>0.222891</td>\n      <td>0.176193</td>\n    </tr>\n    <tr>\n      <th>PCA+Pipeline</th>\n      <td>0.3598</td>\n      <td>0.356223</td>\n      <td>0.340710</td>\n      <td>0.338399</td>\n    </tr>\n    <tr>\n      <th>PCA+KNeighborsClassifier(50)</th>\n      <td>0.2928</td>\n      <td>0.335110</td>\n      <td>0.258804</td>\n      <td>0.258873</td>\n    </tr>\n    <tr>\n      <th>PCA+KNeighborsClassifier(100)</th>\n      <td>0.2672</td>\n      <td>0.314747</td>\n      <td>0.231351</td>\n      <td>0.229599</td>\n    </tr>\n    <tr>\n      <th>PCA+RandomForestClassifier</th>\n      <td>0.9987</td>\n      <td>0.998865</td>\n      <td>0.998403</td>\n      <td>0.998623</td>\n    </tr>\n    <tr>\n      <th>PCA+RadiusNeighborsClassifier</th>\n      <td>0.1064</td>\n      <td>0.192112</td>\n      <td>0.052540</td>\n      <td>0.029569</td>\n    </tr>\n    <tr>\n      <th>PCA+RidgeClassifierCV</th>\n      <td>0.4476</td>\n      <td>0.564038</td>\n      <td>0.406428</td>\n      <td>0.402038</td>\n    </tr>\n    <tr>\n      <th>PCA+Pipeline</th>\n      <td>0.6194</td>\n      <td>0.664691</td>\n      <td>0.599253</td>\n      <td>0.620992</td>\n    </tr>\n    <tr>\n      <th>PCA+KNeighborsClassifier(50)</th>\n      <td>0.1570</td>\n      <td>0.657575</td>\n      <td>0.120276</td>\n      <td>0.133970</td>\n    </tr>\n    <tr>\n      <th>PCA+KNeighborsClassifier(100)</th>\n      <td>0.1612</td>\n      <td>0.662785</td>\n      <td>0.123944</td>\n      <td>0.135490</td>\n    </tr>\n    <tr>\n      <th>PCA+RandomForestClassifier</th>\n      <td>0.9987</td>\n      <td>0.998731</td>\n      <td>0.998548</td>\n      <td>0.998629</td>\n    </tr>\n    <tr>\n      <th>PCA+RadiusNeighborsClassifier</th>\n      <td>0.1111</td>\n      <td>0.331815</td>\n      <td>0.055293</td>\n      <td>0.038305</td>\n    </tr>\n  </tbody>\n</table>\n</div>"
     },
     "execution_count": 9,
     "metadata": {},
     "output_type": "execute_result"
    }
   ],
   "source": [
    "blogs_train"
   ],
   "metadata": {
    "collapsed": false,
    "ExecuteTime": {
     "end_time": "2024-09-25T10:25:39.767972Z",
     "start_time": "2024-09-25T10:25:39.760589Z"
    }
   },
   "id": "13a000ccc0439b2b",
   "execution_count": 9
  },
  {
   "cell_type": "code",
   "outputs": [
    {
     "data": {
      "text/plain": "                                    acc  precision    recall        f1\nRidgeClassifierCV              0.385333   0.399766  0.352311  0.333676\nPipeline                       0.397500   0.411180  0.377664  0.387061\nKNeighborsClassifier(50)       0.295500   0.319091  0.267718  0.255073\nKNeighborsClassifier(100)      0.307833   0.344501  0.278031  0.255043\nRandomForestClassifier         0.335167   0.326375  0.302687  0.297066\nRadiusNeighborsClassifier      0.061333   0.061333  0.020000  0.002312\nPCA+RidgeClassifierCV          0.250333   0.265263  0.213098  0.164331\nPCA+Pipeline                   0.304667   0.288641  0.284300  0.276321\nPCA+KNeighborsClassifier(50)   0.240167   0.252337  0.210469  0.206915\nPCA+KNeighborsClassifier(100)  0.241500   0.281265  0.207025  0.204404\nPCA+RandomForestClassifier     0.250000   0.231072  0.220007  0.210284\nPCA+RadiusNeighborsClassifier  0.108167   0.148713  0.054607  0.029066\nPCA+RidgeClassifierCV          0.352833   0.373028  0.317624  0.287392\nPCA+Pipeline                   0.393167   0.406326  0.366271  0.373714\nPCA+KNeighborsClassifier(50)   0.145667   0.518616  0.110243  0.121573\nPCA+KNeighborsClassifier(100)  0.153333   0.631727  0.118020  0.129336\nPCA+RandomForestClassifier     0.229000   0.233544  0.195065  0.193530\nPCA+RadiusNeighborsClassifier  0.115667   0.446061  0.059376  0.041438",
      "text/html": "<div>\n<style scoped>\n    .dataframe tbody tr th:only-of-type {\n        vertical-align: middle;\n    }\n\n    .dataframe tbody tr th {\n        vertical-align: top;\n    }\n\n    .dataframe thead th {\n        text-align: right;\n    }\n</style>\n<table border=\"1\" class=\"dataframe\">\n  <thead>\n    <tr style=\"text-align: right;\">\n      <th></th>\n      <th>acc</th>\n      <th>precision</th>\n      <th>recall</th>\n      <th>f1</th>\n    </tr>\n  </thead>\n  <tbody>\n    <tr>\n      <th>RidgeClassifierCV</th>\n      <td>0.385333</td>\n      <td>0.399766</td>\n      <td>0.352311</td>\n      <td>0.333676</td>\n    </tr>\n    <tr>\n      <th>Pipeline</th>\n      <td>0.397500</td>\n      <td>0.411180</td>\n      <td>0.377664</td>\n      <td>0.387061</td>\n    </tr>\n    <tr>\n      <th>KNeighborsClassifier(50)</th>\n      <td>0.295500</td>\n      <td>0.319091</td>\n      <td>0.267718</td>\n      <td>0.255073</td>\n    </tr>\n    <tr>\n      <th>KNeighborsClassifier(100)</th>\n      <td>0.307833</td>\n      <td>0.344501</td>\n      <td>0.278031</td>\n      <td>0.255043</td>\n    </tr>\n    <tr>\n      <th>RandomForestClassifier</th>\n      <td>0.335167</td>\n      <td>0.326375</td>\n      <td>0.302687</td>\n      <td>0.297066</td>\n    </tr>\n    <tr>\n      <th>RadiusNeighborsClassifier</th>\n      <td>0.061333</td>\n      <td>0.061333</td>\n      <td>0.020000</td>\n      <td>0.002312</td>\n    </tr>\n    <tr>\n      <th>PCA+RidgeClassifierCV</th>\n      <td>0.250333</td>\n      <td>0.265263</td>\n      <td>0.213098</td>\n      <td>0.164331</td>\n    </tr>\n    <tr>\n      <th>PCA+Pipeline</th>\n      <td>0.304667</td>\n      <td>0.288641</td>\n      <td>0.284300</td>\n      <td>0.276321</td>\n    </tr>\n    <tr>\n      <th>PCA+KNeighborsClassifier(50)</th>\n      <td>0.240167</td>\n      <td>0.252337</td>\n      <td>0.210469</td>\n      <td>0.206915</td>\n    </tr>\n    <tr>\n      <th>PCA+KNeighborsClassifier(100)</th>\n      <td>0.241500</td>\n      <td>0.281265</td>\n      <td>0.207025</td>\n      <td>0.204404</td>\n    </tr>\n    <tr>\n      <th>PCA+RandomForestClassifier</th>\n      <td>0.250000</td>\n      <td>0.231072</td>\n      <td>0.220007</td>\n      <td>0.210284</td>\n    </tr>\n    <tr>\n      <th>PCA+RadiusNeighborsClassifier</th>\n      <td>0.108167</td>\n      <td>0.148713</td>\n      <td>0.054607</td>\n      <td>0.029066</td>\n    </tr>\n    <tr>\n      <th>PCA+RidgeClassifierCV</th>\n      <td>0.352833</td>\n      <td>0.373028</td>\n      <td>0.317624</td>\n      <td>0.287392</td>\n    </tr>\n    <tr>\n      <th>PCA+Pipeline</th>\n      <td>0.393167</td>\n      <td>0.406326</td>\n      <td>0.366271</td>\n      <td>0.373714</td>\n    </tr>\n    <tr>\n      <th>PCA+KNeighborsClassifier(50)</th>\n      <td>0.145667</td>\n      <td>0.518616</td>\n      <td>0.110243</td>\n      <td>0.121573</td>\n    </tr>\n    <tr>\n      <th>PCA+KNeighborsClassifier(100)</th>\n      <td>0.153333</td>\n      <td>0.631727</td>\n      <td>0.118020</td>\n      <td>0.129336</td>\n    </tr>\n    <tr>\n      <th>PCA+RandomForestClassifier</th>\n      <td>0.229000</td>\n      <td>0.233544</td>\n      <td>0.195065</td>\n      <td>0.193530</td>\n    </tr>\n    <tr>\n      <th>PCA+RadiusNeighborsClassifier</th>\n      <td>0.115667</td>\n      <td>0.446061</td>\n      <td>0.059376</td>\n      <td>0.041438</td>\n    </tr>\n  </tbody>\n</table>\n</div>"
     },
     "execution_count": 10,
     "metadata": {},
     "output_type": "execute_result"
    }
   ],
   "source": [
    "blogs_test"
   ],
   "metadata": {
    "collapsed": false,
    "ExecuteTime": {
     "end_time": "2024-09-25T10:25:39.771314Z",
     "start_time": "2024-09-25T10:25:39.769159Z"
    }
   },
   "id": "e2beeec540983270",
   "execution_count": 10
  },
  {
   "cell_type": "code",
   "outputs": [
    {
     "name": "stdout",
     "output_type": "stream",
     "text": [
      "Best test F1: 0.38706098588229504\n"
     ]
    }
   ],
   "source": [
    "print(f'Best test F1: {blogs_test[\"f1\"].max()}')"
   ],
   "metadata": {
    "collapsed": false,
    "ExecuteTime": {
     "end_time": "2024-09-25T10:42:52.467153Z",
     "start_time": "2024-09-25T10:42:52.462428Z"
    }
   },
   "id": "f317f2f650d4bafa",
   "execution_count": 13
  },
  {
   "cell_type": "code",
   "outputs": [],
   "source": [],
   "metadata": {
    "collapsed": false
   },
   "id": "e387bf131bd11ff"
  }
 ],
 "metadata": {
  "kernelspec": {
   "display_name": "Python 3",
   "language": "python",
   "name": "python3"
  },
  "language_info": {
   "codemirror_mode": {
    "name": "ipython",
    "version": 2
   },
   "file_extension": ".py",
   "mimetype": "text/x-python",
   "name": "python",
   "nbconvert_exporter": "python",
   "pygments_lexer": "ipython2",
   "version": "2.7.6"
  }
 },
 "nbformat": 4,
 "nbformat_minor": 5
}
